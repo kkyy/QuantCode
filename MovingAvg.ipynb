{
 "cells": [
  {
   "cell_type": "code",
   "execution_count": 8,
   "metadata": {},
   "outputs": [],
   "source": [
    "import pandas as pd\n",
    "import matplotlib.pyplot as plt\n",
    "import backtrader as bt\n",
    "import tushare as ts\n",
    "from datetime import datetime\n",
    "import tushare as ts\n",
    "\n",
    "\n",
    "#plt.rcParams['figure.figsize'] = (16, 12)\n",
    "#plt.rcParams['figure.dpi'] = 300"
   ]
  },
  {
   "cell_type": "code",
   "execution_count": 9,
   "metadata": {},
   "outputs": [
    {
     "name": "stdout",
     "output_type": "stream",
     "text": [
      "              open    high     low   close    volume  openinterest\n",
      "trade_date                                                        \n",
      "2017-01-03  334.28  337.00  332.81  334.56  20763.89             0\n",
      "2017-01-04  334.62  352.17  334.60  351.91  65257.38             0\n",
      "2017-01-05  350.00  351.45  345.44  346.74  41704.48             0\n",
      "2017-01-06  346.64  359.78  346.10  350.76  68095.62             0\n",
      "2017-01-09  347.80  352.88  346.54  348.51  35405.00             0\n"
     ]
    }
   ],
   "source": [
    "ts.set_token('5d3c09f16bc3ad409898ff6cfc10aadeeae28ba23aa240c047dd125c')\n",
    "pro = ts.pro_api()\n",
    "\n",
    "start_date = '20170101'\n",
    "end_date = '20191201'\n",
    "code = '600519.SH'\n",
    "\n",
    "def get_data(code = code,start_date = start_date,end_date = end_date):\n",
    "    df = pro.daily(ts_code = code,start_date = start_date,end_date = end_date)\n",
    "    df = df.iloc[::-1] #序列倒转\n",
    "    df.index = pd.to_datetime(df.trade_date) #index改为时间格式\n",
    "    df['openinterest'] = 0 #设置Openinterest\n",
    "    df = df[['open','high','low','close','vol','openinterest']]\n",
    "    df.rename(columns={'vol': 'volume'}, inplace=True)\n",
    "    return df\n",
    "\n",
    "stock_df = get_data()\n",
    "print(stock_df.head())\n",
    "data = bt.feeds.PandasData(\n",
    "    dataname=stock_df,\n",
    "    fromdate=pd.to_datetime(start_date),\n",
    "    todate=pd.to_datetime(end_date),\n",
    ")"
   ]
  },
  {
   "cell_type": "code",
   "execution_count": null,
   "metadata": {},
   "outputs": [],
   "source": [
    "class MovingAvg(bt.Strategy):\n",
    "    # list of parameters which are configurable for the strategy\n",
    "    params = dict(\n",
    "        pfast=10,  # period for the fast moving average\n",
    "        pslow=30   # period for the slow moving average\n",
    "    )\n",
    "\n",
    "    \"\"\"\n",
    "    params = (\n",
    "        ('period_15',15),\n",
    "        ('period_20',20),\n",
    "    )\n",
    "    \"\"\"\n",
    "\n",
    "    def __init__(self):\n",
    "        self.order = None\n",
    "        self.buyprice = None\n",
    "        self.buycomm = None\n",
    "        #self.sma = bt.indicators.SimpleMovingAverage(self.data0, period = self.params.pfast)\n",
    "        self.sma = bt.indicators.SMA(self.datas[0], period = self.p.pfast)\n",
    "\n",
    "    def next(self):\n",
    "        if not self.position:  # not in the market\n",
    "            if self.datas[0].close[0] > self.sma[0]:  # if fast crosses slow to the upside\n",
    "                self.buy()  # enter long\n",
    "\n",
    "        elif self.datas[0].close[0] < self.sma[0]:  # in the market & cross to the downside\n",
    "            self.order = self.sell()  # close long position"
   ]
  },
  {
   "cell_type": "code",
   "execution_count": 6,
   "metadata": {},
   "outputs": [],
   "source": [
    "# Create a subclass of Strategy to define the indicators and logic\n",
    "\n",
    "class SmaCross(bt.Strategy):\n",
    "    # list of parameters which are configurable for the strategy\n",
    "    params = dict(\n",
    "        pfast=10,  # period for the fast moving average\n",
    "        pslow=30   # period for the slow moving average\n",
    "    )\n",
    "\n",
    "    def __init__(self):\n",
    "        sma1 = bt.ind.SMA(period=self.p.pfast)  # fast moving average\n",
    "        sma2 = bt.ind.SMA(period=self.p.pslow)  # slow moving average\n",
    "        self.crossover = bt.ind.CrossOver(sma1, sma2)  # crossover signal\n",
    "\n",
    "    def next(self):\n",
    "        if not self.position:  # not in the market\n",
    "            if self.crossover > 0:  # if fast crosses slow to the upside\n",
    "                self.buy()  # enter long\n",
    "\n",
    "        elif self.crossover < 0:  # in the market & cross to the downside\n",
    "            self.close()  # close long position"
   ]
  },
  {
   "cell_type": "code",
   "execution_count": 22,
   "metadata": {},
   "outputs": [],
   "source": [
    "# Create a subclass of Strategy to define the indicators and logic\n",
    "\n",
    "class SmaCross(bt.Strategy):\n",
    "    # list of parameters which are configurable for the strategy\n",
    "    params = dict(\n",
    "        pfast=10,  # period for the fast moving average\n",
    "        pslow=30   # period for the slow moving average\n",
    "    )\n",
    "\n",
    "    def __init__(self):\n",
    "        sma1 = bt.ind.SMA(period=self.p.pfast)  # fast moving average\n",
    "        sma2 = bt.ind.SMA(period=self.p.pslow)  # slow moving average\n",
    "        self.crossover = bt.ind.CrossOver(sma1, sma2)  # crossover signal\n",
    "\n",
    "    def next(self):\n",
    "        if not self.position:  # not in the market\n",
    "            if self.crossover > 0:  # if fast crosses slow to the upside\n",
    "                self.order_target_size(target=1)  # enter long\n",
    "\n",
    "        elif self.crossover < 0:  # in the market & cross to the downside\n",
    "            self.order_target_size(target=0)  # close long position"
   ]
  },
  {
   "cell_type": "code",
   "execution_count": null,
   "metadata": {},
   "outputs": [],
   "source": [
    "# Create a subclass of SignaStrategy to define the indicators and signals\n",
    "\n",
    "class SmaCross(bt.SignalStrategy):\n",
    "    # list of parameters which are configurable for the strategy\n",
    "    params = dict(\n",
    "        pfast=10,  # period for the fast moving average\n",
    "        pslow=30   # period for the slow moving average\n",
    "    )\n",
    "\n",
    "    def __init__(self):\n",
    "        sma1 = bt.ind.SMA(period=self.p.pfast)  # fast moving average\n",
    "        sma2 = bt.ind.SMA(period=self.p.pslow)  # slow moving average\n",
    "        crossover = bt.ind.CrossOver(sma1, sma2)  # crossover signal\n",
    "        self.signal_add(bt.SIGNAL_LONG, crossover)  # use it as LONG signal"
   ]
  },
  {
   "cell_type": "code",
   "execution_count": 14,
   "metadata": {},
   "outputs": [
    {
     "name": "stdout",
     "output_type": "stream",
     "text": [
      "Starting Portfolio Value: 1000000.00\n",
      "Ending Portfolio Value: 1686255.71\n"
     ]
    }
   ],
   "source": [
    "cerebro = bt.Cerebro()  # create a \"Cerebro\" engine instance\n",
    "\n",
    "cerebro.adddata(data)  # Add the data feed\n",
    "cerebro.addstrategy(SmaCross)  # Add the trading strategy\n",
    "\n",
    "cerebro.addanalyzer(bt.analyzers.SharpeRatio, _name='SharpeRatio')\n",
    "cerebro.addanalyzer(bt.analyzers.DrawDown, _name='DrawDown')\n",
    "\n",
    "cerebro.broker.setcash(1000000)\n",
    "cerebro.broker.setcommission(commission=0.0005)\n",
    "\n",
    "s = pd.to_datetime(start_date).strftime(\"%Y-%m-%d\")\n",
    "t = pd.to_datetime(end_date).strftime(\"%Y-%m-%d\")\n",
    "\n",
    "print('Starting Portfolio Value: %.2f' % cerebro.broker.getvalue())\n",
    "cerebro.addsizer(bt.sizers.PercentSizer, percents=90)\n",
    "cerebro.run()  # run it all\n",
    "print('Ending Portfolio Value: %.2f' % cerebro.broker.getvalue())\n",
    "\n",
    "#cerebro.plot(iplot=False)[0][0]\n",
    "#cerebro.plot(mpl={'style': 'mpl'})[0][0]\n",
    "#%matplotlib inline"
   ]
  },
  {
   "cell_type": "code",
   "execution_count": null,
   "metadata": {},
   "outputs": [],
   "source": []
  }
 ],
 "metadata": {
  "kernelspec": {
   "display_name": "base",
   "language": "python",
   "name": "python3"
  },
  "language_info": {
   "codemirror_mode": {
    "name": "ipython",
    "version": 3
   },
   "file_extension": ".py",
   "mimetype": "text/x-python",
   "name": "python",
   "nbconvert_exporter": "python",
   "pygments_lexer": "ipython3",
   "version": "3.12.7"
  }
 },
 "nbformat": 4,
 "nbformat_minor": 2
}
