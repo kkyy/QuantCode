{
 "cells": [
  {
   "cell_type": "code",
   "execution_count": null,
   "id": "16f164af",
   "metadata": {},
   "outputs": [],
   "source": [
    "import quantstats as qs\n",
    "import pandas as pd\n",
    "from datetime import datetime\n",
    "import backtrader as bt\n",
    "import matplotlib.pyplot as plt \n",
    "import tushare as ts\n",
    "import quantstats as qs\n",
    "## test\n",
    "qs.extend_pandas()\n",
    "\n",
    "#plt.rcParams[\"font.sans-serif\"] = [\"SimHei\"]\n",
    "#plt.rcParams[\"axes.unicode_minus\"] = False"
   ]
  },
  {
   "cell_type": "code",
   "execution_count": null,
   "id": "cd8fe51a",
   "metadata": {},
   "outputs": [],
   "source": [
    "# 按股票代码，依次加载数据\n",
    "for stock in datas['sec_code'].unique():\n",
    "    # 日期对齐, 获取回测区间所有交易日\n",
    "    data = pd.DataFrame(index=datas.index.unique())\n",
    "    df = datas.query(f\"sec_code=='{stock}'\")[['open','high','low','close','volume','openinterest']] \n",
    "    data_ = pd.merge(data, df, left_index=True, right_index=True, how='left')\n",
    "    # 缺失值处理\n",
    "    data_.loc[:,['volume','openinterest']] = data_.loc[:,['volume','openinterest']].fillna(0)\n",
    "    data_.loc[:,['open','high','low','close','EP','ROE']] = data_.loc[:,['open','high','low','close']].fillna(method='pad')\n",
    "    data_.loc[:,['open','high','low','close','EP','ROE']] = data_.loc[:,['open','high','low','close']].fillna(0.0000001)\n",
    "\n",
    "    # 导入数据\n",
    "    datafeed = PandasData_more(dataname=data_,\n",
    "                            fromdate = datetime.datetime(2019,1,31),\n",
    "                            todate= datetime.datetime(2021,8,31),\n",
    "                            timeframe = bt.TimeFrame.Months\n",
    "                            )\n",
    "    cerebro.adddata(datafeed,name=stock)\n",
    "    #print(f\"{stock} Done!\")\n",
    "\n",
    "......\n",
    "# 获得收益率时序\n",
    "ret = pd.Series(result[0].analyzers._TimeReturn.get_analysis())"
   ]
  },
  {
   "cell_type": "code",
   "execution_count": 4,
   "id": "b923952e",
   "metadata": {},
   "outputs": [
    {
     "ename": "Exception",
     "evalue": "抱歉，您没有接口访问权限，权限的具体详情访问：https://tushare.pro/document/1?doc_id=108。",
     "output_type": "error",
     "traceback": [
      "\u001b[0;31m---------------------------------------------------------------------------\u001b[0m",
      "\u001b[0;31mException\u001b[0m                                 Traceback (most recent call last)",
      "Cell \u001b[0;32mIn[4], line 3\u001b[0m\n\u001b[1;32m      1\u001b[0m ts\u001b[38;5;241m.\u001b[39mset_token(\u001b[38;5;124m'\u001b[39m\u001b[38;5;124m5d3c09f16bc3ad409898ff6cfc10aadeeae28ba23aa240c047dd125c\u001b[39m\u001b[38;5;124m'\u001b[39m)\n\u001b[1;32m      2\u001b[0m pro \u001b[38;5;241m=\u001b[39m ts\u001b[38;5;241m.\u001b[39mpro_api()\n\u001b[0;32m----> 3\u001b[0m hs300 \u001b[38;5;241m=\u001b[39m pro\u001b[38;5;241m.\u001b[39mindex_weight(index_code\u001b[38;5;241m=\u001b[39m\u001b[38;5;124m'\u001b[39m\u001b[38;5;124m000300.SH\u001b[39m\u001b[38;5;124m'\u001b[39m, start_date\u001b[38;5;241m=\u001b[39m\u001b[38;5;124m'\u001b[39m\u001b[38;5;124m20190101\u001b[39m\u001b[38;5;124m'\u001b[39m, end_date\u001b[38;5;241m=\u001b[39m\u001b[38;5;124m'\u001b[39m\u001b[38;5;124m20210831\u001b[39m\u001b[38;5;124m'\u001b[39m)\n\u001b[1;32m      4\u001b[0m hs300\u001b[38;5;241m.\u001b[39mhead()\n",
      "File \u001b[0;32m/opt/anaconda3/lib/python3.12/site-packages/tushare/pro/client.py:45\u001b[0m, in \u001b[0;36mDataApi.query\u001b[0;34m(self, api_name, fields, **kwargs)\u001b[0m\n\u001b[1;32m     43\u001b[0m result \u001b[38;5;241m=\u001b[39m json\u001b[38;5;241m.\u001b[39mloads(res\u001b[38;5;241m.\u001b[39mtext)\n\u001b[1;32m     44\u001b[0m \u001b[38;5;28;01mif\u001b[39;00m result[\u001b[38;5;124m'\u001b[39m\u001b[38;5;124mcode\u001b[39m\u001b[38;5;124m'\u001b[39m] \u001b[38;5;241m!=\u001b[39m \u001b[38;5;241m0\u001b[39m:\n\u001b[0;32m---> 45\u001b[0m     \u001b[38;5;28;01mraise\u001b[39;00m \u001b[38;5;167;01mException\u001b[39;00m(result[\u001b[38;5;124m'\u001b[39m\u001b[38;5;124mmsg\u001b[39m\u001b[38;5;124m'\u001b[39m])\n\u001b[1;32m     46\u001b[0m data \u001b[38;5;241m=\u001b[39m result[\u001b[38;5;124m'\u001b[39m\u001b[38;5;124mdata\u001b[39m\u001b[38;5;124m'\u001b[39m]\n\u001b[1;32m     47\u001b[0m columns \u001b[38;5;241m=\u001b[39m data[\u001b[38;5;124m'\u001b[39m\u001b[38;5;124mfields\u001b[39m\u001b[38;5;124m'\u001b[39m]\n",
      "\u001b[0;31mException\u001b[0m: 抱歉，您没有接口访问权限，权限的具体详情访问：https://tushare.pro/document/1?doc_id=108。"
     ]
    }
   ],
   "source": [
    "ts.set_token('5d3c09f16bc3ad409898ff6cfc10aadeeae28ba23aa240c047dd125c')\n",
    "pro = ts.pro_api()\n",
    "hs300 = pro.index_weight(index_code='000300.SH', start_date='20190101', end_date='20210831')\n",
    "hs300.head()"
   ]
  },
  {
   "cell_type": "code",
   "execution_count": 44,
   "id": "835e7088",
   "metadata": {},
   "outputs": [
    {
     "name": "stdout",
     "output_type": "stream",
     "text": [
      "               open     high      low    close     volume  openinterest\n",
      "trade_date                                                             \n",
      "2025-04-03  1530.00  1586.00  1529.01  1568.88   35480.50             0\n",
      "2025-04-07  1520.01  1536.85  1462.00  1500.00  101952.67             0\n",
      "2025-04-08  1513.00  1545.00  1495.00  1545.00   73876.49             0\n",
      "2025-04-09  1525.02  1556.80  1520.55  1541.04   55630.04             0\n",
      "2025-04-10  1550.99  1555.00  1528.00  1549.00   38620.21             0\n"
     ]
    }
   ],
   "source": [
    "ts.set_token('5d3c09f16bc3ad409898ff6cfc10aadeeae28ba23aa240c047dd125c')\n",
    "pro = ts.pro_api()\n",
    "\n",
    "start_date = '20240307';end_date = '20250410';code = '600519.SH'\n",
    "\n",
    "def get_data(code = code,start_date = start_date,end_date = end_date):\n",
    "    df = pro.daily(ts_code = code,start_date = start_date,end_date = end_date)\n",
    "    df = df.iloc[::-1] #序列倒转\n",
    "    df.index = pd.to_datetime(df.trade_date) #index改为时间格式\n",
    "    df['openinterest'] = 0 #设置Openinterest\n",
    "    df = df[['open','high','low','close','vol','openinterest']]\n",
    "    df.rename(columns={'vol': 'volume'}, inplace=True)\n",
    "    return df\n",
    "\n",
    "stock_df = get_data()\n",
    "print(stock_df.tail())\n",
    "data = bt.feeds.PandasData(dataname=stock_df,fromdate=pd.to_datetime(start_date),todate=pd.to_datetime(end_date))"
   ]
  },
  {
   "cell_type": "code",
   "execution_count": 39,
   "id": "fdea88e1",
   "metadata": {},
   "outputs": [],
   "source": [
    "class lab(bt.Strategy):\n",
    "    params = dict(\n",
    "        pfast=10,  # period for the fast moving average\n",
    "        pslow=30   # period for the slow moving average\n",
    "    )\n",
    "    \n",
    "    def __init__(self):\n",
    "        self.order = None\n",
    "        self.buyprice = None\n",
    "        self.buycomm = None\n",
    "        #self.roc = bt.ind.ROC(self.data,period=3) #period=x:(px-px[-x])/px[-x]\n",
    "        sma1 = bt.ind.SMA(period=self.p.pfast)  # fast moving average\n",
    "        sma2 = bt.ind.SMA(period=self.p.pslow)  # slow moving average\n",
    "        self.crossover = bt.ind.CrossOver(sma1, sma2)  # crossover signal\n",
    "\n",
    "    def next(self):\n",
    "        #print(self.data.lines[0])\n",
    "        #print(self.data.lines[0][0])\n",
    "        #print(bt.num2date(self.data.lines[6][0]))\n",
    "        #print(self.roc[0])\n",
    "        #print(self.data.lines.close)\n",
    "        #print(self.data.lines[0])\n",
    "        if not self.position:  # not in the market\n",
    "            if self.crossover > 0:  # if fast crosses slow to the upside\n",
    "                self.buy()  # enter long\n",
    "\n",
    "        elif self.crossover < 0:  # in the market & cross to the downside\n",
    "            self.close()  # close long position\n"
   ]
  },
  {
   "cell_type": "code",
   "execution_count": null,
   "id": "f4037405",
   "metadata": {},
   "outputs": [
    {
     "name": "stdout",
     "output_type": "stream",
     "text": [
      "--------------- AnnualReturn -----------------\n",
      "OrderedDict({2024: -0.03771950582886152, 2025: 0.01486157782173736})\n",
      "--------------- SharpeRatio -----------------\n",
      "OrderedDict({'sharperatio': -0.5488271827732721})\n",
      "--------------- DrawDown -----------------\n",
      "AutoOrderedDict({'len': 125, 'drawdown': 11.533810667315334, 'moneydown': 127322.15792650601, 'max': AutoOrderedDict({'len': 125, 'drawdown': 15.107903143187535, 'moneydown': 166776.69552755193})})\n"
     ]
    },
    {
     "name": "stderr",
     "output_type": "stream",
     "text": [
      "\n",
      "1 Failed download:\n",
      "['SPY']: YFRateLimitError('Too Many Requests. Rate limited. Try after a while.')\n",
      "c:\\Users\\keyua\\anaconda3\\Lib\\site-packages\\quantstats\\utils.py:279: FutureWarning: The default fill_method='pad' in Series.pct_change is deprecated and will be removed in a future version. Either fill in any non-leading NA values prior to calling pct_change or specify 'fill_method=None' to not fill NA values.\n",
      "  .pct_change()\n"
     ]
    },
    {
     "name": "stdout",
     "output_type": "stream",
     "text": [
      "                    Benchmark    Strategy\n",
      "------------------  -----------  ----------\n",
      "Start Period        2024-03-07   2024-03-07\n",
      "End Period          2025-04-10   2025-04-10\n",
      "Risk-Free Rate      0.0%         0.0%\n",
      "Time in Market      0.0%         45.0%\n",
      "\n",
      "Cumulative Return   0.0%         -2.34%\n",
      "CAGR﹪              0.0%         -1.49%\n",
      "\n",
      "Sharpe              -            -0.02\n",
      "Prob. Sharpe Ratio  -            49.1%\n",
      "Sortino             -            -0.04\n",
      "Sortino/√2          -            -0.03\n",
      "Omega               0.99         0.99\n",
      "\n",
      "Max Drawdown        -            -15.11%\n",
      "Longest DD Days     -            -\n",
      "\n",
      "Gain/Pain Ratio     -            -0.01\n",
      "Gain/Pain (1M)      -            -0.02\n",
      "\n",
      "Payoff Ratio        -            -\n",
      "Profit Factor       -            0.99\n",
      "Common Sense Ratio  -            0.77\n",
      "CPC Index           -            -\n",
      "Tail Ratio          -            0.78\n",
      "Outlier Win Ratio   -            8.59\n",
      "Outlier Loss Ratio  -            1.39\n",
      "\n",
      "MTD                 0.0%         0.0%\n",
      "3M                  0.0%         1.49%\n",
      "6M                  0.0%         -3.67%\n",
      "YTD                 0.0%         1.49%\n",
      "1Y                  0.0%         1.24%\n",
      "3Y (ann.)           0.0%         -1.49%\n",
      "5Y (ann.)           0.0%         -1.49%\n",
      "10Y (ann.)          0.0%         -1.49%\n",
      "All-time (ann.)     0.0%         -1.49%\n",
      "\n",
      "Avg. Drawdown       -            -10.14%\n",
      "Avg. Drawdown Days  -            -\n",
      "Recovery Factor     -            0.03\n",
      "Ulcer Index         0.0          0.09\n",
      "Serenity Index      -            -0.0\n"
     ]
    },
    {
     "name": "stderr",
     "output_type": "stream",
     "text": [
      "c:\\Users\\keyua\\anaconda3\\Lib\\site-packages\\scipy\\stats\\_distn_infrastructure.py:2246: RuntimeWarning: invalid value encountered in multiply\n",
      "  lower_bound = _a * scale + loc\n",
      "c:\\Users\\keyua\\anaconda3\\Lib\\site-packages\\scipy\\stats\\_distn_infrastructure.py:2247: RuntimeWarning: invalid value encountered in multiply\n",
      "  upper_bound = _b * scale + loc\n"
     ]
    }
   ],
   "source": [
    "\n",
    "cerebro = bt.Cerebro()  # create a \"Cerebro\" engine instance\n",
    "\n",
    "cerebro.adddata(data)  # Add the data feed\n",
    "cerebro.addstrategy(MovingAvg)  # Add the trading strategy\n",
    "\n",
    "cerebro.addanalyzer(bt.analyzers.SharpeRatio, riskfreerate=0.003, annualize=True, _name='SharpeRatio')\n",
    "cerebro.addanalyzer(bt.analyzers.DrawDown, _name='DrawDown')\n",
    "cerebro.addanalyzer(bt.analyzers.AnnualReturn, _name='AnnualReturn')\n",
    "cerebro.addanalyzer(bt.analyzers.PyFolio)\n",
    "cerebro.addanalyzer(bt.analyzers.TimeReturn,_name='strat_returns')\n",
    "\n",
    "cerebro.broker.setcash(1000000)\n",
    "cerebro.broker.setcommission(commission=0.0005)\n",
    "\n",
    "cerebro.addsizer(bt.sizers.PercentSizer, percents=90)\n",
    "strats = cerebro.run()  # run it all\n",
    "strat = strats[0]  # run it all\n",
    "print(\"--------------- AnnualReturn -----------------\")\n",
    "print(strat.analyzers.AnnualReturn.get_analysis())\n",
    "print(\"--------------- SharpeRatio -----------------\")\n",
    "print(strat.analyzers.SharpeRatio.get_analysis())\n",
    "print(\"--------------- DrawDown -----------------\")\n",
    "print(strat.analyzers.DrawDown.get_analysis())\n",
    "\n",
    "pyfolio = strats[0].analyzers.getbyname('pyfolio')\n",
    "returns, positions, transactions, gross_lev = pyfolio.get_pf_items()\n",
    "sp500 = qs.utils.download_returns('SPY')\n",
    "qs.reports.metrics(returns, benchmark=sp500)"
   ]
  },
  {
   "cell_type": "code",
   "execution_count": null,
   "id": "4877280c",
   "metadata": {},
   "outputs": [],
   "source": []
  }
 ],
 "metadata": {
  "kernelspec": {
   "display_name": "base",
   "language": "python",
   "name": "python3"
  },
  "language_info": {
   "codemirror_mode": {
    "name": "ipython",
    "version": 3
   },
   "file_extension": ".py",
   "mimetype": "text/x-python",
   "name": "python",
   "nbconvert_exporter": "python",
   "pygments_lexer": "ipython3",
   "version": "3.12.7"
  }
 },
 "nbformat": 4,
 "nbformat_minor": 5
}
