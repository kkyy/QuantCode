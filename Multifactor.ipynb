{
 "cells": [
  {
   "cell_type": "code",
   "execution_count": 5,
   "id": "ff7c55c9",
   "metadata": {},
   "outputs": [],
   "source": [
    "import pandas as pd\n",
    "from datetime import datetime\n",
    "import backtrader as bt\n",
    "import matplotlib.pyplot as plt \n",
    "import tushare as ts\n",
    "import akshare as ak\n",
    "import sys,os\n",
    "\n",
    "\n",
    "sys.stdout.encoding = 'utf_8_sig'\n",
    "plt.rcParams[\"font.sans-serif\"] = [\"SimHei\"]\n",
    "plt.rcParams[\"axes.unicode_minus\"] = False"
   ]
  },
  {
   "cell_type": "code",
   "execution_count": 13,
   "id": "6576459b",
   "metadata": {},
   "outputs": [
    {
     "name": "stdout",
     "output_type": "stream",
     "text": [
      "Index(['报告期', '净利润', '净利润同比增长率', '扣非净利润', '扣非净利润同比增长率', '营业总收入', '营业总收入同比增长率',\n",
      "       '基本每股收益', '每股净资产', '每股资本公积金', '每股未分配利润', '每股经营现金流', '销售净利率', '销售毛利率',\n",
      "       '净资产收益率', '净资产收益率-摊薄', '营业周期', '存货周转率', '存货周转天数', '应收账款周转天数', '流动比率',\n",
      "       '速动比率', '保守速动比率', '产权比率', '资产负债率'],\n",
      "      dtype='object')\n"
     ]
    },
    {
     "data": {
      "application/vnd.microsoft.datawrangler.viewer.v0+json": {
       "columns": [
        {
         "name": "index",
         "rawType": "int64",
         "type": "integer"
        },
        {
         "name": "报告期",
         "rawType": "object",
         "type": "string"
        },
        {
         "name": "净利润",
         "rawType": "object",
         "type": "string"
        },
        {
         "name": "净利润同比增长率",
         "rawType": "object",
         "type": "unknown"
        },
        {
         "name": "扣非净利润",
         "rawType": "object",
         "type": "unknown"
        },
        {
         "name": "扣非净利润同比增长率",
         "rawType": "object",
         "type": "unknown"
        },
        {
         "name": "营业总收入",
         "rawType": "object",
         "type": "string"
        },
        {
         "name": "营业总收入同比增长率",
         "rawType": "object",
         "type": "unknown"
        },
        {
         "name": "基本每股收益",
         "rawType": "object",
         "type": "string"
        },
        {
         "name": "每股净资产",
         "rawType": "object",
         "type": "unknown"
        },
        {
         "name": "每股资本公积金",
         "rawType": "object",
         "type": "unknown"
        },
        {
         "name": "每股未分配利润",
         "rawType": "object",
         "type": "unknown"
        },
        {
         "name": "每股经营现金流",
         "rawType": "object",
         "type": "unknown"
        },
        {
         "name": "销售净利率",
         "rawType": "object",
         "type": "string"
        },
        {
         "name": "销售毛利率",
         "rawType": "object",
         "type": "string"
        },
        {
         "name": "净资产收益率",
         "rawType": "object",
         "type": "unknown"
        },
        {
         "name": "净资产收益率-摊薄",
         "rawType": "object",
         "type": "unknown"
        },
        {
         "name": "营业周期",
         "rawType": "object",
         "type": "unknown"
        },
        {
         "name": "存货周转率",
         "rawType": "object",
         "type": "unknown"
        },
        {
         "name": "存货周转天数",
         "rawType": "object",
         "type": "unknown"
        },
        {
         "name": "应收账款周转天数",
         "rawType": "object",
         "type": "unknown"
        },
        {
         "name": "流动比率",
         "rawType": "object",
         "type": "unknown"
        },
        {
         "name": "速动比率",
         "rawType": "object",
         "type": "unknown"
        },
        {
         "name": "保守速动比率",
         "rawType": "object",
         "type": "unknown"
        },
        {
         "name": "产权比率",
         "rawType": "object",
         "type": "unknown"
        },
        {
         "name": "资产负债率",
         "rawType": "object",
         "type": "unknown"
        }
       ],
       "conversionMethod": "pd.DataFrame",
       "ref": "6b4ab8e4-95d5-4470-a7f5-d7834c23e41a",
       "rows": [
        [
         "0",
         "2007-12-31",
         "2539.24万",
         "False",
         "2553.92万",
         "False",
         "1.60亿",
         "False",
         "0.7100",
         "2.19",
         "0.39",
         "0.72",
         "0.99",
         "15.88%",
         "52.43%",
         "32.33%",
         "29.52%",
         "291.55",
         "2.64",
         "136.11",
         "155.44",
         "1.79",
         "1.47",
         "1.47",
         "1.75",
         "49.67%"
        ],
        [
         "1",
         "2008-12-31",
         "3989.16万",
         "57.10%",
         "3226.80万",
         "26.35%",
         "1.76亿",
         "10.19%",
         "1.0100",
         "3.18",
         "0.50",
         "1.52",
         "0.61",
         "23.95%",
         "55.70%",
         "37.65%",
         "31.88%",
         "270.94",
         "2.71",
         "132.70",
         "138.24",
         "1.87",
         "1.39",
         "1.39",
         "0.86",
         "45.76%"
        ],
        [
         "2",
         "2009-03-31",
         "1320.11万",
         "False",
         "943.28万",
         "False",
         "3933.77万",
         "False",
         "0.3400",
         "False",
         "False",
         "False",
         "-0.31",
         "32.82%",
         "50.47%",
         "False",
         "9.56%",
         "False",
         "False",
         "False",
         "False",
         "False",
         "False",
         "False",
         "False",
         "False"
        ],
        [
         "3",
         "2009-06-30",
         "2349.12万",
         "False",
         "1934.14万",
         "False",
         "9208.99万",
         "False",
         "0.6000",
         "False",
         "False",
         "False",
         "0.0030",
         "25.84%",
         "50.08%",
         "17.34%",
         "False",
         "False",
         "False",
         "False",
         "False",
         "False",
         "False",
         "False",
         "False",
         "False"
        ],
        [
         "4",
         "2009-09-30",
         "2775.29万",
         "False",
         "False",
         "False",
         "1.30亿",
         "False",
         "0.3500",
         "False",
         "False",
         "False",
         "False",
         "21.51%",
         "50.75%",
         "False",
         "False",
         "False",
         "False",
         "False",
         "False",
         "False",
         "False",
         "False",
         "False",
         "False"
        ]
       ],
       "shape": {
        "columns": 25,
        "rows": 5
       }
      },
      "text/html": [
       "<div>\n",
       "<style scoped>\n",
       "    .dataframe tbody tr th:only-of-type {\n",
       "        vertical-align: middle;\n",
       "    }\n",
       "\n",
       "    .dataframe tbody tr th {\n",
       "        vertical-align: top;\n",
       "    }\n",
       "\n",
       "    .dataframe thead th {\n",
       "        text-align: right;\n",
       "    }\n",
       "</style>\n",
       "<table border=\"1\" class=\"dataframe\">\n",
       "  <thead>\n",
       "    <tr style=\"text-align: right;\">\n",
       "      <th></th>\n",
       "      <th>报告期</th>\n",
       "      <th>净利润</th>\n",
       "      <th>净利润同比增长率</th>\n",
       "      <th>扣非净利润</th>\n",
       "      <th>扣非净利润同比增长率</th>\n",
       "      <th>营业总收入</th>\n",
       "      <th>营业总收入同比增长率</th>\n",
       "      <th>基本每股收益</th>\n",
       "      <th>每股净资产</th>\n",
       "      <th>每股资本公积金</th>\n",
       "      <th>...</th>\n",
       "      <th>净资产收益率-摊薄</th>\n",
       "      <th>营业周期</th>\n",
       "      <th>存货周转率</th>\n",
       "      <th>存货周转天数</th>\n",
       "      <th>应收账款周转天数</th>\n",
       "      <th>流动比率</th>\n",
       "      <th>速动比率</th>\n",
       "      <th>保守速动比率</th>\n",
       "      <th>产权比率</th>\n",
       "      <th>资产负债率</th>\n",
       "    </tr>\n",
       "  </thead>\n",
       "  <tbody>\n",
       "    <tr>\n",
       "      <th>0</th>\n",
       "      <td>2007-12-31</td>\n",
       "      <td>2539.24万</td>\n",
       "      <td>False</td>\n",
       "      <td>2553.92万</td>\n",
       "      <td>False</td>\n",
       "      <td>1.60亿</td>\n",
       "      <td>False</td>\n",
       "      <td>0.7100</td>\n",
       "      <td>2.19</td>\n",
       "      <td>0.39</td>\n",
       "      <td>...</td>\n",
       "      <td>29.52%</td>\n",
       "      <td>291.55</td>\n",
       "      <td>2.64</td>\n",
       "      <td>136.11</td>\n",
       "      <td>155.44</td>\n",
       "      <td>1.79</td>\n",
       "      <td>1.47</td>\n",
       "      <td>1.47</td>\n",
       "      <td>1.75</td>\n",
       "      <td>49.67%</td>\n",
       "    </tr>\n",
       "    <tr>\n",
       "      <th>1</th>\n",
       "      <td>2008-12-31</td>\n",
       "      <td>3989.16万</td>\n",
       "      <td>57.10%</td>\n",
       "      <td>3226.80万</td>\n",
       "      <td>26.35%</td>\n",
       "      <td>1.76亿</td>\n",
       "      <td>10.19%</td>\n",
       "      <td>1.0100</td>\n",
       "      <td>3.18</td>\n",
       "      <td>0.50</td>\n",
       "      <td>...</td>\n",
       "      <td>31.88%</td>\n",
       "      <td>270.94</td>\n",
       "      <td>2.71</td>\n",
       "      <td>132.70</td>\n",
       "      <td>138.24</td>\n",
       "      <td>1.87</td>\n",
       "      <td>1.39</td>\n",
       "      <td>1.39</td>\n",
       "      <td>0.86</td>\n",
       "      <td>45.76%</td>\n",
       "    </tr>\n",
       "    <tr>\n",
       "      <th>2</th>\n",
       "      <td>2009-03-31</td>\n",
       "      <td>1320.11万</td>\n",
       "      <td>False</td>\n",
       "      <td>943.28万</td>\n",
       "      <td>False</td>\n",
       "      <td>3933.77万</td>\n",
       "      <td>False</td>\n",
       "      <td>0.3400</td>\n",
       "      <td>False</td>\n",
       "      <td>False</td>\n",
       "      <td>...</td>\n",
       "      <td>9.56%</td>\n",
       "      <td>False</td>\n",
       "      <td>False</td>\n",
       "      <td>False</td>\n",
       "      <td>False</td>\n",
       "      <td>False</td>\n",
       "      <td>False</td>\n",
       "      <td>False</td>\n",
       "      <td>False</td>\n",
       "      <td>False</td>\n",
       "    </tr>\n",
       "    <tr>\n",
       "      <th>3</th>\n",
       "      <td>2009-06-30</td>\n",
       "      <td>2349.12万</td>\n",
       "      <td>False</td>\n",
       "      <td>1934.14万</td>\n",
       "      <td>False</td>\n",
       "      <td>9208.99万</td>\n",
       "      <td>False</td>\n",
       "      <td>0.6000</td>\n",
       "      <td>False</td>\n",
       "      <td>False</td>\n",
       "      <td>...</td>\n",
       "      <td>False</td>\n",
       "      <td>False</td>\n",
       "      <td>False</td>\n",
       "      <td>False</td>\n",
       "      <td>False</td>\n",
       "      <td>False</td>\n",
       "      <td>False</td>\n",
       "      <td>False</td>\n",
       "      <td>False</td>\n",
       "      <td>False</td>\n",
       "    </tr>\n",
       "    <tr>\n",
       "      <th>4</th>\n",
       "      <td>2009-09-30</td>\n",
       "      <td>2775.29万</td>\n",
       "      <td>False</td>\n",
       "      <td>False</td>\n",
       "      <td>False</td>\n",
       "      <td>1.30亿</td>\n",
       "      <td>False</td>\n",
       "      <td>0.3500</td>\n",
       "      <td>False</td>\n",
       "      <td>False</td>\n",
       "      <td>...</td>\n",
       "      <td>False</td>\n",
       "      <td>False</td>\n",
       "      <td>False</td>\n",
       "      <td>False</td>\n",
       "      <td>False</td>\n",
       "      <td>False</td>\n",
       "      <td>False</td>\n",
       "      <td>False</td>\n",
       "      <td>False</td>\n",
       "      <td>False</td>\n",
       "    </tr>\n",
       "  </tbody>\n",
       "</table>\n",
       "<p>5 rows × 25 columns</p>\n",
       "</div>"
      ],
      "text/plain": [
       "          报告期       净利润 净利润同比增长率     扣非净利润 扣非净利润同比增长率     营业总收入 营业总收入同比增长率  \\\n",
       "0  2007-12-31  2539.24万    False  2553.92万      False     1.60亿      False   \n",
       "1  2008-12-31  3989.16万   57.10%  3226.80万     26.35%     1.76亿     10.19%   \n",
       "2  2009-03-31  1320.11万    False   943.28万      False  3933.77万      False   \n",
       "3  2009-06-30  2349.12万    False  1934.14万      False  9208.99万      False   \n",
       "4  2009-09-30  2775.29万    False     False      False     1.30亿      False   \n",
       "\n",
       "   基本每股收益  每股净资产 每股资本公积金  ... 净资产收益率-摊薄    营业周期  存货周转率  存货周转天数 应收账款周转天数  \\\n",
       "0  0.7100   2.19    0.39  ...    29.52%  291.55   2.64  136.11   155.44   \n",
       "1  1.0100   3.18    0.50  ...    31.88%  270.94   2.71  132.70   138.24   \n",
       "2  0.3400  False   False  ...     9.56%   False  False   False    False   \n",
       "3  0.6000  False   False  ...     False   False  False   False    False   \n",
       "4  0.3500  False   False  ...     False   False  False   False    False   \n",
       "\n",
       "    流动比率   速动比率 保守速动比率   产权比率   资产负债率  \n",
       "0   1.79   1.47   1.47   1.75  49.67%  \n",
       "1   1.87   1.39   1.39   0.86  45.76%  \n",
       "2  False  False  False  False   False  \n",
       "3  False  False  False  False   False  \n",
       "4  False  False  False  False   False  \n",
       "\n",
       "[5 rows x 25 columns]"
      ]
     },
     "execution_count": 13,
     "metadata": {},
     "output_type": "execute_result"
    }
   ],
   "source": [
    "a = ak.stock_financial_abstract_ths(symbol=\"300076\",indicator=\"按报告期\")\n",
    "print(a.columns)\n",
    "a.head()"
   ]
  },
  {
   "cell_type": "code",
   "execution_count": null,
   "id": "0e8a49dd",
   "metadata": {},
   "outputs": [],
   "source": [
    "buy_date={}\n",
    "sell_date={}\n",
    "postion=set([])\n",
    "stock_list=set([])\n",
    "stock_columns={'总市值(万元)':[True,0.9],'市盈率(静态)':[False,1],'换手率(%)':[True,0.3]}\n",
    "#stock_columns={'总市值(万元)':[True,0.8],'市盈率(静态)':[False,1]}\n",
    "cw_columns={'营业收入环比增长率(%)(单季度)':[True,0.4]}\n",
    "for i in range(0,len(time_id),30):\n",
    "    stock_list_tem=stock_daily[(stock_daily[\"date\"]==time_id[i+1])&(stock_daily[\"open\"]!=stock_daily[\"close\"])][\"股票代码\"].unique()\n",
    "    \n",
    "    stock_list_tem_0=stock_daily[(stock_daily[\"date\"]==time_id[i])&(stock_daily[\"股票代码\"].isin(stock_list_tem))]\n",
    "    columns_list=list(stock_columns.keys())\n",
    "    factor1_stock=stock_list_tem_0.sort_values(by=columns_list[0],ascending=stock_columns[columns_list[0]][0])[\"股票代码\"].tolist()\n",
    "    f_1_df=pd.Series(range(1,len(factor1_stock)+1),index=factor1_stock)*stock_columns[columns_list[0]][1]\n",
    "    for j in columns_list[1:]:\n",
    "        factor1_stock=stock_list_tem_0.sort_values(by=j,ascending=stock_columns[j][0])[\"股票代码\"].tolist()\n",
    "        f_1_df=f_1_df+pd.Series(range(1,len(factor1_stock)+1),index=factor1_stock)*stock_columns[j][1]\n",
    "    \n",
    "    cw_list_tem_0=cwzbsj[(cwzbsj[\"公告日期\"]<time_id[i])&(cwzbsj[\"股票代码\"].isin(stock_list_tem))].groupby(\"股票代码\").last()\n",
    "    if len(cw_list_tem_0)>0:\n",
    "        for j in cw_columns.keys():\n",
    "            factor1_stock=cw_list_tem_0.sort_values(by=j,ascending=cw_columns[j][0]).index.tolist()\n",
    "            f_1_df=f_1_df+pd.Series(range(1,len(factor1_stock)+1),index=factor1_stock)*cw_columns[j][1]\n",
    "    \n",
    "    buy_list=f_1_df.sort_values().head(5).index.tolist()\n",
    "    buy_date.update({str(time_id[i].date()):buy_list})\n",
    "    sell_date.update({str(time_id[i].date()):list(postion-set(buy_list))})\n",
    "    postion=set(buy_list)\n",
    "    stock_list=stock_list|postion"
   ]
  },
  {
   "cell_type": "code",
   "execution_count": 6,
   "id": "8e005fcd",
   "metadata": {},
   "outputs": [
    {
     "name": "stdout",
     "output_type": "stream",
     "text": [
      "C信凯科技_001335.SZ.csv 数据为空\n",
      "C泰禾股份_301665.SZ.csv 数据为空\n",
      "C泰鸿_603210.SH.csv 数据为空\n"
     ]
    }
   ],
   "source": [
    "#从csv文件读入所有股票k线数据\n",
    "files = os.listdir('Data_k')\n",
    "files.sort()\n",
    "stock_list = []\n",
    "\n",
    "stock_daily = pd.DataFrame()\n",
    "for file in files[0:20]:\n",
    "    df = pd.read_csv('Data_k/'+file,encoding='utf_8_sig')\n",
    "    if len(df) == 0:\n",
    "        print(file, \"数据为空\")\n",
    "        continue\n",
    "    stock_list.append(file.split('_')[1][:file.split('_')[1].find('c')-1])\n",
    "    # 计算除权涨跌幅\n",
    "    df['chg'] = df['close'].shift(1) / df['pre_close'] - 1\n",
    "    df.iloc[0,11] = 0 #第11列为'chg'\n",
    "\n",
    "    # =计算复权价: 计算所有因当当中用到的价格, 都使用复权价\n",
    "    df['adj_factor'] = (1 + df['chg']).cumprod()\n",
    "\n",
    "    label = 'after'  # 选择复权模式的标签\n",
    "    # 计算后复权价格\n",
    "    if label == 'after':\n",
    "        df['adj_after_close'] = df['adj_factor'] * df['close']\n",
    "    # 计算前复权价格\n",
    "    if label == 'pre':\n",
    "        df['adj_pre_close'] = df['adj_factor'] * (\n",
    "                df.iloc[-1]['close'] / df.iloc[-1]['adj_factor'])\n",
    "    stock_daily = pd.concat([stock_daily, df], axis=0)\n",
    "    \n",
    "stock_daily['trade_date'] = pd.to_datetime(stock_daily['trade_date'].astype(\"str\"))\n",
    "stock_daily.set_index(\"trade_date\",inplace=True,drop=True)"
   ]
  },
  {
   "cell_type": "code",
   "execution_count": 19,
   "id": "f0a16c3f",
   "metadata": {},
   "outputs": [
    {
     "data": {
      "application/vnd.microsoft.datawrangler.viewer.v0+json": {
       "columns": [
        {
         "name": "trade_date",
         "rawType": "datetime64[ns]",
         "type": "datetime"
        },
        {
         "name": "open",
         "rawType": "float64",
         "type": "float"
        },
        {
         "name": "high",
         "rawType": "float64",
         "type": "float"
        },
        {
         "name": "low",
         "rawType": "float64",
         "type": "float"
        },
        {
         "name": "adj_after_close",
         "rawType": "float64",
         "type": "float"
        },
        {
         "name": "vol",
         "rawType": "float64",
         "type": "float"
        }
       ],
       "conversionMethod": "pd.DataFrame",
       "ref": "3156f11d-9ad6-4f7d-bc84-0aaeb422c577",
       "rows": [
        [
         "2010-04-30 00:00:00",
         "75.0",
         "76.9",
         "68.21",
         "68.26",
         "55444.68"
        ],
        [
         "2010-05-04 00:00:00",
         "63.63",
         "65.25",
         "62.29",
         "62.55",
         "20221.55"
        ],
        [
         "2010-05-05 00:00:00",
         "60.68",
         "64.58",
         "60.65",
         "64.45",
         "12354.31"
        ],
        [
         "2010-05-06 00:00:00",
         "63.57",
         "63.8",
         "60.68",
         "60.71",
         "13471.94"
        ],
        [
         "2010-05-07 00:00:00",
         "59.4",
         "61.35",
         "59.0",
         "60.2",
         "6862.39"
        ],
        [
         "2010-05-10 00:00:00",
         "60.16",
         "60.7",
         "55.05",
         "56.77",
         "10107.15"
        ],
        [
         "2010-05-11 00:00:00",
         "57.55",
         "57.98",
         "53.02",
         "53.18",
         "10436.1"
        ],
        [
         "2010-05-12 00:00:00",
         "52.9",
         "53.23",
         "51.6",
         "52.18",
         "5914.51"
        ],
        [
         "2010-05-13 00:00:00",
         "52.01",
         "53.15",
         "50.6",
         "53.0",
         "6130.07"
        ],
        [
         "2010-05-14 00:00:00",
         "52.6",
         "54.0",
         "52.1",
         "53.15",
         "6231.04"
        ],
        [
         "2010-05-17 00:00:00",
         "52.49",
         "52.49",
         "49.88",
         "50.0",
         "5062.11"
        ],
        [
         "2010-05-18 00:00:00",
         "49.9",
         "50.64",
         "48.7",
         "50.4",
         "4556.19"
        ],
        [
         "2010-05-19 00:00:00",
         "50.0",
         "53.69",
         "49.7",
         "52.31",
         "7709.31"
        ],
        [
         "2010-05-20 00:00:00",
         "51.48",
         "52.55",
         "50.27",
         "50.61",
         "4407.64"
        ],
        [
         "2010-05-21 00:00:00",
         "48.9",
         "52.9",
         "48.7",
         "52.5",
         "6415.23"
        ],
        [
         "2010-05-24 00:00:00",
         "53.06",
         "55.5",
         "52.5",
         "54.88",
         "9728.73"
        ],
        [
         "2010-05-25 00:00:00",
         "54.0",
         "55.38",
         "53.51",
         "54.19",
         "7261.99"
        ],
        [
         "2010-05-26 00:00:00",
         "54.0",
         "54.7",
         "53.21",
         "53.55",
         "4910.41"
        ],
        [
         "2010-05-27 00:00:00",
         "53.05",
         "54.8",
         "52.86",
         "54.33",
         "6473.0"
        ],
        [
         "2010-05-28 00:00:00",
         "54.7",
         "55.17",
         "54.26",
         "54.4",
         "6212.86"
        ],
        [
         "2010-05-31 00:00:00",
         "54.19",
         "54.39",
         "52.3",
         "52.3",
         "4380.49"
        ],
        [
         "2010-06-01 00:00:00",
         "51.5",
         "52.49",
         "49.5",
         "50.21",
         "4528.98"
        ],
        [
         "2010-06-02 00:00:00",
         "50.21",
         "50.97",
         "49.58",
         "50.91",
         "2391.75"
        ],
        [
         "2010-06-03 00:00:00",
         "50.81",
         "52.28",
         "50.8",
         "50.8",
         "3767.82"
        ],
        [
         "2010-06-04 00:00:00",
         "50.8",
         "51.82",
         "50.5",
         "51.8",
         "2412.28"
        ],
        [
         "2010-06-07 00:00:00",
         "51.01",
         "53.99",
         "50.8",
         "53.78",
         "7797.53"
        ],
        [
         "2010-06-08 00:00:00",
         "53.81",
         "54.96",
         "53.12",
         "54.56",
         "7420.55"
        ],
        [
         "2010-06-09 00:00:00",
         "54.48",
         "56.75",
         "54.48",
         "55.92",
         "11448.59"
        ],
        [
         "2010-06-10 00:00:00",
         "55.73",
         "58.58",
         "55.08",
         "58.23",
         "11028.0"
        ],
        [
         "2010-06-11 00:00:00",
         "58.64",
         "61.98",
         "58.6",
         "59.62",
         "12481.92"
        ],
        [
         "2010-06-17 00:00:00",
         "60.0",
         "61.79",
         "56.15",
         "56.41",
         "7307.56"
        ],
        [
         "2010-06-18 00:00:00",
         "56.18",
         "56.81",
         "52.5",
         "52.73",
         "6921.39"
        ],
        [
         "2010-06-21 00:00:00",
         "52.25",
         "55.8",
         "51.73",
         "55.45",
         "4799.04"
        ],
        [
         "2010-06-22 00:00:00",
         "55.35",
         "56.5",
         "54.72",
         "55.0",
         "4690.52"
        ],
        [
         "2010-06-23 00:00:00",
         "54.88",
         "57.0",
         "53.9",
         "57.0",
         "5668.88"
        ],
        [
         "2010-06-24 00:00:00",
         "56.95",
         "57.73",
         "56.51",
         "57.42",
         "4852.44"
        ],
        [
         "2010-06-25 00:00:00",
         "57.99",
         "57.99",
         "54.5",
         "55.02",
         "4057.11"
        ],
        [
         "2010-06-28 00:00:00",
         "54.31",
         "56.78",
         "54.3",
         "55.0",
         "4288.45"
        ],
        [
         "2010-06-29 00:00:00",
         "55.1",
         "55.59",
         "51.0",
         "51.1",
         "5657.71"
        ],
        [
         "2010-06-30 00:00:00",
         "51.1",
         "54.5",
         "50.51",
         "53.96",
         "4611.71"
        ],
        [
         "2010-07-01 00:00:00",
         "56.0",
         "58.8",
         "56.0",
         "57.65",
         "17289.14"
        ],
        [
         "2010-07-02 00:00:00",
         "56.1",
         "58.97",
         "54.1",
         "58.25",
         "13704.41"
        ],
        [
         "2010-07-05 00:00:00",
         "57.48",
         "61.77",
         "56.55",
         "59.27",
         "15683.96"
        ],
        [
         "2010-07-06 00:00:00",
         "58.5",
         "61.2",
         "58.27",
         "60.05",
         "13120.39"
        ],
        [
         "2010-07-07 00:00:00",
         "60.7",
         "60.8",
         "58.3",
         "58.98",
         "10160.55"
        ],
        [
         "2010-07-08 00:00:00",
         "59.3",
         "64.8",
         "58.45",
         "63.89",
         "18442.92"
        ],
        [
         "2010-07-09 00:00:00",
         "63.0",
         "64.35",
         "62.01",
         "64.19",
         "11443.91"
        ],
        [
         "2010-07-12 00:00:00",
         "63.8",
         "65.2",
         "63.35",
         "64.25",
         "9023.02"
        ],
        [
         "2010-07-13 00:00:00",
         "64.2",
         "65.0",
         "61.51",
         "63.88",
         "10115.22"
        ],
        [
         "2010-07-14 00:00:00",
         "62.9",
         "64.9",
         "62.7",
         "63.0",
         "8729.97"
        ]
       ],
       "shape": {
        "columns": 5,
        "rows": 3430
       }
      },
      "text/html": [
       "<div>\n",
       "<style scoped>\n",
       "    .dataframe tbody tr th:only-of-type {\n",
       "        vertical-align: middle;\n",
       "    }\n",
       "\n",
       "    .dataframe tbody tr th {\n",
       "        vertical-align: top;\n",
       "    }\n",
       "\n",
       "    .dataframe thead th {\n",
       "        text-align: right;\n",
       "    }\n",
       "</style>\n",
       "<table border=\"1\" class=\"dataframe\">\n",
       "  <thead>\n",
       "    <tr style=\"text-align: right;\">\n",
       "      <th></th>\n",
       "      <th>open</th>\n",
       "      <th>high</th>\n",
       "      <th>low</th>\n",
       "      <th>adj_after_close</th>\n",
       "      <th>vol</th>\n",
       "    </tr>\n",
       "    <tr>\n",
       "      <th>trade_date</th>\n",
       "      <th></th>\n",
       "      <th></th>\n",
       "      <th></th>\n",
       "      <th></th>\n",
       "      <th></th>\n",
       "    </tr>\n",
       "  </thead>\n",
       "  <tbody>\n",
       "    <tr>\n",
       "      <th>2010-04-30</th>\n",
       "      <td>75.00</td>\n",
       "      <td>76.90</td>\n",
       "      <td>68.21</td>\n",
       "      <td>68.260000</td>\n",
       "      <td>55444.68</td>\n",
       "    </tr>\n",
       "    <tr>\n",
       "      <th>2010-05-04</th>\n",
       "      <td>63.63</td>\n",
       "      <td>65.25</td>\n",
       "      <td>62.29</td>\n",
       "      <td>62.550000</td>\n",
       "      <td>20221.55</td>\n",
       "    </tr>\n",
       "    <tr>\n",
       "      <th>2010-05-05</th>\n",
       "      <td>60.68</td>\n",
       "      <td>64.58</td>\n",
       "      <td>60.65</td>\n",
       "      <td>64.450000</td>\n",
       "      <td>12354.31</td>\n",
       "    </tr>\n",
       "    <tr>\n",
       "      <th>2010-05-06</th>\n",
       "      <td>63.57</td>\n",
       "      <td>63.80</td>\n",
       "      <td>60.68</td>\n",
       "      <td>60.710000</td>\n",
       "      <td>13471.94</td>\n",
       "    </tr>\n",
       "    <tr>\n",
       "      <th>2010-05-07</th>\n",
       "      <td>59.40</td>\n",
       "      <td>61.35</td>\n",
       "      <td>59.00</td>\n",
       "      <td>60.200000</td>\n",
       "      <td>6862.39</td>\n",
       "    </tr>\n",
       "    <tr>\n",
       "      <th>...</th>\n",
       "      <td>...</td>\n",
       "      <td>...</td>\n",
       "      <td>...</td>\n",
       "      <td>...</td>\n",
       "      <td>...</td>\n",
       "    </tr>\n",
       "    <tr>\n",
       "      <th>2024-12-25</th>\n",
       "      <td>7.32</td>\n",
       "      <td>7.88</td>\n",
       "      <td>6.69</td>\n",
       "      <td>63.503012</td>\n",
       "      <td>510148.14</td>\n",
       "    </tr>\n",
       "    <tr>\n",
       "      <th>2024-12-26</th>\n",
       "      <td>7.60</td>\n",
       "      <td>7.88</td>\n",
       "      <td>7.52</td>\n",
       "      <td>63.004297</td>\n",
       "      <td>300890.67</td>\n",
       "    </tr>\n",
       "    <tr>\n",
       "      <th>2024-12-27</th>\n",
       "      <td>7.64</td>\n",
       "      <td>7.96</td>\n",
       "      <td>7.47</td>\n",
       "      <td>64.583561</td>\n",
       "      <td>237448.28</td>\n",
       "    </tr>\n",
       "    <tr>\n",
       "      <th>2024-12-30</th>\n",
       "      <td>7.80</td>\n",
       "      <td>7.80</td>\n",
       "      <td>7.53</td>\n",
       "      <td>62.588702</td>\n",
       "      <td>152683.40</td>\n",
       "    </tr>\n",
       "    <tr>\n",
       "      <th>2024-12-31</th>\n",
       "      <td>7.57</td>\n",
       "      <td>7.61</td>\n",
       "      <td>7.06</td>\n",
       "      <td>58.682103</td>\n",
       "      <td>222896.66</td>\n",
       "    </tr>\n",
       "  </tbody>\n",
       "</table>\n",
       "<p>3430 rows × 5 columns</p>\n",
       "</div>"
      ],
      "text/plain": [
       "             open   high    low  adj_after_close        vol\n",
       "trade_date                                                 \n",
       "2010-04-30  75.00  76.90  68.21        68.260000   55444.68\n",
       "2010-05-04  63.63  65.25  62.29        62.550000   20221.55\n",
       "2010-05-05  60.68  64.58  60.65        64.450000   12354.31\n",
       "2010-05-06  63.57  63.80  60.68        60.710000   13471.94\n",
       "2010-05-07  59.40  61.35  59.00        60.200000    6862.39\n",
       "...           ...    ...    ...              ...        ...\n",
       "2024-12-25   7.32   7.88   6.69        63.503012  510148.14\n",
       "2024-12-26   7.60   7.88   7.52        63.004297  300890.67\n",
       "2024-12-27   7.64   7.96   7.47        64.583561  237448.28\n",
       "2024-12-30   7.80   7.80   7.53        62.588702  152683.40\n",
       "2024-12-31   7.57   7.61   7.06        58.682103  222896.66\n",
       "\n",
       "[3430 rows x 5 columns]"
      ]
     },
     "execution_count": 19,
     "metadata": {},
     "output_type": "execute_result"
    }
   ],
   "source": [
    "stock_daily[stock_daily[\"ts_code\"]==\"300076.SZ\"][[\"open\",\"high\",\"low\",\"adj_after_close\",\"vol\"]]"
   ]
  },
  {
   "cell_type": "code",
   "execution_count": 7,
   "id": "3730ee3e",
   "metadata": {},
   "outputs": [],
   "source": [
    "def get_data(syboml):\n",
    "    stock = stock_daily[stock_daily[\"ts_code\"]==syboml][[\"open\",\"high\",\"low\",\"adj_after_close\",\"vol\"]]\n",
    "    stock['openinterest'] = 0\n",
    "    stock.rename(columns={\"adj_after_close\": \"close\", \"vol\": \"volume\"}, inplace=True)\n",
    "    return stock\n",
    "\n",
    "# 对齐导入的不同股票数据的日期，因为有些可能有停牌或者停市\n",
    "n = len(stock_daily.index.unique())\n",
    "d = pd.Series(range(0,n),index=stock_daily.index.unique()).sort_index()\n",
    "#pd.concat([get_data(\"300076.SZ\"),d],axis=1).ffill().bfill()\n",
    "\n",
    "def get_data_1(syboml):\n",
    "    stock = stock_daily[stock_daily[\"ts_code\"]==syboml][[\"open\",\"high\",\"low\",\"adj_after_close\",\"vol\"]]\n",
    "    stock['openinterest'] = 0\n",
    "    stock.rename(columns={\"adj_after_close\": \"close\", \"vol\": \"volume\"}, inplace=True)\n",
    "    stock=pd.concat([stock,d],axis=1).fillna(method=\"bfill\").fillna(method=\"ffill\")\n",
    "    return stock[[\"open\",\"high\",\"low\",\"close\",\"volume\",\"openinterest\"]]"
   ]
  },
  {
   "cell_type": "code",
   "execution_count": 4,
   "id": "0a7ab74a",
   "metadata": {},
   "outputs": [
    {
     "ename": "NameError",
     "evalue": "name 'datas' is not defined",
     "output_type": "error",
     "traceback": [
      "\u001b[1;31m---------------------------------------------------------------------------\u001b[0m",
      "\u001b[1;31mNameError\u001b[0m                                 Traceback (most recent call last)",
      "Cell \u001b[1;32mIn[4], line 1\u001b[0m\n\u001b[1;32m----> 1\u001b[0m \u001b[38;5;28;01mfor\u001b[39;00m stock \u001b[38;5;129;01min\u001b[39;00m datas[\u001b[38;5;124m'\u001b[39m\u001b[38;5;124msec_code\u001b[39m\u001b[38;5;124m'\u001b[39m]\u001b[38;5;241m.\u001b[39munique():\n\u001b[0;32m      2\u001b[0m     \u001b[38;5;66;03m# 日期对齐, 获取回测区间所有交易日\u001b[39;00m\n\u001b[0;32m      3\u001b[0m     data \u001b[38;5;241m=\u001b[39m pd\u001b[38;5;241m.\u001b[39mDataFrame(index\u001b[38;5;241m=\u001b[39mdatas\u001b[38;5;241m.\u001b[39mindex\u001b[38;5;241m.\u001b[39munique())\n\u001b[0;32m      4\u001b[0m     df \u001b[38;5;241m=\u001b[39m datas\u001b[38;5;241m.\u001b[39mquery(\u001b[38;5;124mf\u001b[39m\u001b[38;5;124m\"\u001b[39m\u001b[38;5;124msec_code==\u001b[39m\u001b[38;5;124m'\u001b[39m\u001b[38;5;132;01m{\u001b[39;00mstock\u001b[38;5;132;01m}\u001b[39;00m\u001b[38;5;124m'\u001b[39m\u001b[38;5;124m\"\u001b[39m)[[\u001b[38;5;124m'\u001b[39m\u001b[38;5;124mopen\u001b[39m\u001b[38;5;124m'\u001b[39m,\u001b[38;5;124m'\u001b[39m\u001b[38;5;124mhigh\u001b[39m\u001b[38;5;124m'\u001b[39m,\u001b[38;5;124m'\u001b[39m\u001b[38;5;124mlow\u001b[39m\u001b[38;5;124m'\u001b[39m,\u001b[38;5;124m'\u001b[39m\u001b[38;5;124mclose\u001b[39m\u001b[38;5;124m'\u001b[39m,\u001b[38;5;124m'\u001b[39m\u001b[38;5;124mvolume\u001b[39m\u001b[38;5;124m'\u001b[39m,\u001b[38;5;124m'\u001b[39m\u001b[38;5;124mopeninterest\u001b[39m\u001b[38;5;124m'\u001b[39m]] \n",
      "\u001b[1;31mNameError\u001b[0m: name 'datas' is not defined"
     ]
    }
   ],
   "source": [
    "for stock in datas['sec_code'].unique():\n",
    "    # 日期对齐, 获取回测区间所有交易日\n",
    "    data = pd.DataFrame(index=datas.index.unique())\n",
    "    df = datas.query(f\"sec_code=='{stock}'\")[['open','high','low','close','volume','openinterest']] \n",
    "    data_ = pd.merge(data, df, left_index=True, right_index=True, how='left')\n",
    "    # 缺失值处理\n",
    "    data_.loc[:,['volume','openinterest']] = data_.loc[:,['volume','openinterest']].fillna(0)\n",
    "    data_.loc[:,['open','high','low','close','EP','ROE']] = data_.loc[:,['open','high','low','close']].fillna(method='pad')\n",
    "    data_.loc[:,['open','high','low','close','EP','ROE']] = data_.loc[:,['open','high','low','close']].fillna(0.0000001)\n",
    "\n",
    "    # 导入数据\n",
    "    datafeed = PandasData_more(dataname=data_,\n",
    "                            fromdate = datetime.datetime(2019,1,31),\n",
    "                            todate= datetime.datetime(2021,8,31),\n",
    "                            timeframe = bt.TimeFrame.Months\n",
    "                            )\n",
    "    cerebro.adddata(datafeed,name=stock)\n",
    "    #print(f\"{stock} Done!\")\n",
    "\n",
    "# 获得收益率时序\n",
    "ret = pd.Series(result[0].analyzers._TimeReturn.get_analysis())"
   ]
  },
  {
   "cell_type": "code",
   "execution_count": 21,
   "id": "ce83f6a2",
   "metadata": {},
   "outputs": [],
   "source": [
    "#策略接口\n",
    "class my_strategy_date(bt.Strategy):\n",
    "    #全局设定交易策略的参数\n",
    "\n",
    "    def __init__(self):\n",
    "        # 初始化交易指令、买卖价格和手续费\n",
    "        self.order = None\n",
    "\n",
    "    def next(self):\n",
    "        # 检查是否持仓 \n",
    "        # print(str(self.datetime.date(0)))\n",
    "        if str(self.datetime.date(0)) in sell_date.keys(): \n",
    "            s_list=sell_date[str(self.datetime.date(0))] #取出对应日期的股票\n",
    "            for i in s_list:\n",
    "                self.order_target_percent(target=0,data=i)\n",
    "                \n",
    "        if str(self.datetime.date(0)) in buy_date.keys(): \n",
    "            s_list=buy_date[str(self.datetime.date(0))]\n",
    "            for i in s_list:\n",
    "                self.order_target_percent(target=0.9/len(s_list),data=i)\n",
    "                \n",
    "\n",
    "            \n",
    "    def log(self, txt, dt=None):\n",
    "        ''' 输出日志'''\n",
    "        dt = dt or self.datas[0].datetime.date(0) # 拿现在的日期\n",
    "        print('%s, %s' % (dt.isoformat(), txt))\n",
    "\n",
    "    def notify_order(self, order):\n",
    "        if order.status in [order.Submitted, order.Accepted]:\n",
    "            # Buy/Sell order submitted/accepted to/by broker - Nothing to do\n",
    "            return\n",
    "\n",
    "        # Check if an order has been completed\n",
    "        # Attention: broker could reject order if not enough cash\n",
    "        if order.status in [order.Completed, order.Canceled, order.Margin]:\n",
    "            if order.isbuy():\n",
    "                self.log(f\"\"\"买入{order.data._name}, 成交量{order.executed.size}，成交价{order.executed.price:.2f}\"\"\")\n",
    "            elif order.issell():\n",
    "                self.log(f\"\"\"卖出{order.data._name}, 成交量{order.executed.size}，成交价{order.executed.price:.2f}\"\"\")\n",
    "            self.bar_executed = len(self)\n",
    "\n",
    "        # Write down: no pending order\n",
    "        self.order = None"
   ]
  },
  {
   "cell_type": "code",
   "execution_count": null,
   "id": "2bc8ee33",
   "metadata": {},
   "outputs": [],
   "source": [
    "def backtest(start,end,stock_list,strategy):\n",
    "\n",
    "    cerebro = bt.Cerebro()\n",
    "    for i in stock_list:\n",
    "        stock=get_data_1(i)\n",
    "        data = bt.feeds.PandasData(dataname=stock,fromdate=start,todate=end)           \n",
    "        cerebro.adddata(data,name=i) \n",
    "        \n",
    "    cerebro.addstrategy(strategy) \n",
    "    cerebro.broker.setcash(100000) \n",
    "    cerebro.broker.setcommission(commission=0.002) \n",
    "\n",
    "\n",
    "    print(start.date(),end.date())\n",
    "    print('初始资金: %.2f' % cerebro.broker.getvalue())\n",
    "    cerebro.addanalyzer(bt.analyzers.SharpeRatio, _name = 'SharpeRatio')\n",
    "    cerebro.addanalyzer(bt.analyzers.DrawDown, _name='DW')\n",
    "    results = cerebro.run()\n",
    "    strat = results[0]\n",
    "    print('最终资金: %.2f' % cerebro.broker.getvalue())\n",
    "    print('夏普比率:', strat.analyzers.SharpeRatio.get_analysis())\n",
    "    print('回撤指标:', strat.analyzers.DW.get_analysis())\n",
    "    \n",
    "    return cerebro"
   ]
  },
  {
   "cell_type": "code",
   "execution_count": 37,
   "id": "f75a0188",
   "metadata": {},
   "outputs": [
    {
     "name": "stdout",
     "output_type": "stream",
     "text": [
      "2020-09-22 2023-02-10\n",
      "初始资金: 100000.00\n",
      "2020-09-23, 买入300076.SZ, 成交量925，成交价5.86\n",
      "2020-09-23, 买入002748.SZ, 成交量2919，成交价7.36\n",
      "2023-02-03, 卖出300076.SZ, 成交量-925，成交价5.75\n",
      "2023-02-03, 卖出002748.SZ, 成交量-2919，成交价11.41\n",
      "最终资金: 111589.14\n",
      "夏普比率: OrderedDict({'sharperatio': 0.21561776210842395})\n",
      "回撤指标: AutoOrderedDict({'len': 293, 'drawdown': 49.86342278778758, 'moneydown': 110981.18155310245, 'max': AutoOrderedDict({'len': 293, 'drawdown': 49.86342278778758, 'moneydown': 110981.18155310245})})\n"
     ]
    },
    {
     "data": {
      "text/plain": [
       "<backtrader.cerebro.Cerebro at 0x1fcedeef170>"
      ]
     },
     "execution_count": 37,
     "metadata": {},
     "output_type": "execute_result"
    }
   ],
   "source": [
    "start=datetime(2020,9,22)\n",
    "end=datetime(2023,2,10)\n",
    "buy_date={\"2020-09-22\":[\"300076.SZ\",\"002748.SZ\"],}\n",
    "sell_date={\"2023-02-02\":[\"300076.SZ\",\"002748.SZ\"]}\n",
    "backtest(start,end,stock_list[0:5],my_strategy_date)"
   ]
  },
  {
   "cell_type": "code",
   "execution_count": null,
   "id": "9b04d170",
   "metadata": {},
   "outputs": [],
   "source": []
  }
 ],
 "metadata": {
  "kernelspec": {
   "display_name": "base",
   "language": "python",
   "name": "python3"
  },
  "language_info": {
   "codemirror_mode": {
    "name": "ipython",
    "version": 3
   },
   "file_extension": ".py",
   "mimetype": "text/x-python",
   "name": "python",
   "nbconvert_exporter": "python",
   "pygments_lexer": "ipython3",
   "version": "3.12.7"
  }
 },
 "nbformat": 4,
 "nbformat_minor": 5
}
